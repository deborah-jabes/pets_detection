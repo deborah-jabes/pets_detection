{
  "nbformat": 4,
  "nbformat_minor": 0,
  "metadata": {
    "colab": {
      "name": "deepLearning_cats_dogs.ipynb",
      "provenance": [],
      "collapsed_sections": [],
      "toc_visible": true,
      "include_colab_link": true
    },
    "kernelspec": {
      "name": "python3",
      "display_name": "Python 3"
    },
    "accelerator": "GPU"
  },
  "cells": [
    {
      "cell_type": "markdown",
      "metadata": {
        "id": "view-in-github",
        "colab_type": "text"
      },
      "source": [
        "<a href=\"https://colab.research.google.com/github/deborah-jabes/pets_detection/blob/main/deepLearning_cats_dogs.ipynb\" target=\"_parent\"><img src=\"https://colab.research.google.com/assets/colab-badge.svg\" alt=\"Open In Colab\"/></a>"
      ]
    },
    {
      "cell_type": "markdown",
      "metadata": {
        "id": "M-Vo1OBVrBAg"
      },
      "source": [
        ""
      ]
    },
    {
      "cell_type": "markdown",
      "metadata": {
        "id": "i5duAy6Jrmtp"
      },
      "source": [
        "**Step 1: Load image data from MNIST:**"
      ]
    },
    {
      "cell_type": "code",
      "metadata": {
        "id": "h1cBAPQfqJ_v",
        "colab": {
          "base_uri": "https://localhost:8080/",
          "height": 184
        },
        "outputId": "192e77a4-5bf2-4a36-db9a-883cf1d9e84b"
      },
      "source": [
        "#import dataset\n",
        "from keras.datasets import mnist \n",
        "import matplotlib.pyplot as plt\n",
        "# load (downloaded if needed) the MNIST dataset into train and test sets.\n",
        "(X_train, y_train), (X_test, y_test) = mnist.load_data() \n",
        "# plot 3 images as gray scale\n",
        "plt.subplot(131)\n",
        "plt.imshow(X_train[0], cmap=plt.get_cmap('gray'))\n",
        "plt.subplot(132)\n",
        "plt.imshow(X_train[1], cmap=plt.get_cmap('gray'))\n",
        "plt.subplot(133)\n",
        "plt.imshow(X_train[2], cmap=plt.get_cmap('gray'))\n",
        "# show the plot\n",
        "plt.show()\n"
      ],
      "execution_count": null,
      "outputs": [
        {
          "output_type": "stream",
          "text": [
            "Downloading data from https://storage.googleapis.com/tensorflow/tf-keras-datasets/mnist.npz\n",
            "11493376/11490434 [==============================] - 0s 0us/step\n"
          ],
          "name": "stdout"
        },
        {
          "output_type": "display_data",
          "data": {
            "image/png": "[encoded data removed]",
            "text/plain": [
              "<Figure size 432x288 with 3 Axes>"
            ]
          },
          "metadata": {
            "tags": [],
            "needs_background": "light"
          }
        }
      ]
    },
    {
      "cell_type": "markdown",
      "metadata": {
        "id": "ZexeT21MsIzq"
      },
      "source": [
        "\n",
        "\n",
        "```\n",
        "# This is formatted as code\n",
        "```\n",
        "\n",
        "**step 2: Import libraries and modules:**\n",
        "\n"
      ]
    },
    {
      "cell_type": "code",
      "metadata": {
        "id": "5kZp74qLqJ_9"
      },
      "source": [
        "# import the Sequential model type from Keras.This is simply a linear stack of neural network layers\n",
        "from keras.models import Sequential \n",
        "# import the \"core\" layers from Keras. These are the layers that are used in almost any neural network\n",
        "from keras.layers import Dense, Activation \n",
        "# import some utilities. This will help us transform our data later\n",
        "from keras.utils import np_utils"
      ],
      "execution_count": null,
      "outputs": []
    },
    {
      "cell_type": "markdown",
      "metadata": {
        "id": "elWG-sWEuuR0"
      },
      "source": [
        "**Step 3: Preprocess input data for Keras:**"
      ]
    },
    {
      "cell_type": "code",
      "metadata": {
        "id": "IuVNFhHPtzu0",
        "colab": {
          "base_uri": "https://localhost:8080/"
        },
        "outputId": "04503a10-88f4-4c57-e9a0-9a3397171df9"
      },
      "source": [
        "# We can look at the shape of the dataset\n",
        "print (X_train.shape)"
      ],
      "execution_count": null,
      "outputs": [
        {
          "output_type": "stream",
          "text": [
            "(60000, 28, 28)\n"
          ],
          "name": "stdout"
        }
      ]
    },
    {
      "cell_type": "code",
      "metadata": {
        "id": "i6ZePVijqKAC"
      },
      "source": [
        "# we want to transform our dataset from having shape (n, width, height) to (n, 784) 28*28*1. 2D to 1D or flat\n",
        "# The next step for the input data is to convert our data type to float32. \n",
        "X_train = X_train.reshape(X_train.shape[0], 784).astype('float32')\n",
        "X_test = X_test.reshape(X_test.shape[0], 784).astype('float32')"
      ],
      "execution_count": null,
      "outputs": []
    },
    {
      "cell_type": "code",
      "metadata": {
        "id": "qsi2nXBrqKAG"
      },
      "source": [
        "# normalize inputs from 0-255 to 0-1 (normalize our data values to the range [0, 1].)\n",
        "\n",
        "X_train = X_train / 255\n",
        "X_test = X_test / 255"
      ],
      "execution_count": null,
      "outputs": []
    },
    {
      "cell_type": "markdown",
      "metadata": {
        "id": "WYMSsy4lx0Re"
      },
      "source": [
        "**Step 4: Preprocess class labels for Keras:**"
      ]
    },
    {
      "cell_type": "code",
      "metadata": {
        "id": "RdLjEtc9ymo3",
        "colab": {
          "base_uri": "https://localhost:8080/"
        },
        "outputId": "46af5c43-824e-4e09-9a22-3b14465ec2a7"
      },
      "source": [
        "# Labels(y_train and y_test) are not split into 10 distinct class labels\n",
        "print (y_train[:10])"
      ],
      "execution_count": null,
      "outputs": [
        {
          "output_type": "stream",
          "text": [
            "[5 0 4 1 9 2 1 3 1 4]\n"
          ],
          "name": "stdout"
        }
      ]
    },
    {
      "cell_type": "markdown",
      "metadata": {
        "id": "Wgo3dooilaY5"
      },
      "source": [
        "Keras expects the training targets to be 10-dimensional vectors, since there are 10 nodes in our Softmax output layer, but we’re instead supplying a single integer representing the class for each image.\n",
        "\n",
        "Conveniently, Keras has a utility method that fixes this exact issue: **to_categorical**: It turns our array of class integers into an array of one-hot vectors instead. \n",
        "\n",
        "For example, 2 would become [0, 0, 1, 0, 0, 0, 0, 0, 0, 0] (it’s zero-indexed)."
      ]
    },
    {
      "cell_type": "code",
      "metadata": {
        "id": "70xOwzV0qKAK"
      },
      "source": [
        "# One hot encode outputs - Convert 1-dimensional class arrays to 10-dimensional class matrices\n",
        "y_train = np_utils.to_categorical(y_train)\n",
        "y_test = np_utils.to_categorical(y_test)"
      ],
      "execution_count": null,
      "outputs": []
    },
    {
      "cell_type": "code",
      "metadata": {
        "id": "8tIFbGM-zesx",
        "colab": {
          "base_uri": "https://localhost:8080/"
        },
        "outputId": "cd500c49-d1ac-4312-d451-4c358c602920"
      },
      "source": [
        "\n",
        "print (y_train.shape)"
      ],
      "execution_count": null,
      "outputs": [
        {
          "output_type": "stream",
          "text": [
            "(60000, 10)\n"
          ],
          "name": "stdout"
        }
      ]
    },
    {
      "cell_type": "markdown",
      "metadata": {
        "id": "MQ6nEoOyLBuI"
      },
      "source": [
        "**Step 5:  Define model architecture:**"
      ]
    },
    {
      "cell_type": "code",
      "metadata": {
        "id": "YOv6Xwk4qKAO",
        "colab": {
          "base_uri": "https://localhost:8080/"
        },
        "outputId": "570f0302-6f8d-4924-bd32-d3dc66cab957"
      },
      "source": [
        "model = Sequential([\n",
        "    Dense(10,input_shape=(784,)),\n",
        "    Activation('softmax'),\n",
        "])\n",
        "model.summary()"
      ],
      "execution_count": null,
      "outputs": [
        {
          "output_type": "stream",
          "text": [
            "Model: \"sequential\"\n",
            "_________________________________________________________________\n",
            "Layer (type)                 Output Shape              Param #   \n",
            "=================================================================\n",
            "dense (Dense)                (None, 10)                7850      \n",
            "_________________________________________________________________\n",
            "activation (Activation)      (None, 10)                0         \n",
            "=================================================================\n",
            "Total params: 7,850\n",
            "Trainable params: 7,850\n",
            "Non-trainable params: 0\n",
            "_________________________________________________________________\n"
          ],
          "name": "stdout"
        }
      ]
    },
    {
      "cell_type": "markdown",
      "metadata": {
        "id": "EdfKAA7RMaMx"
      },
      "source": [
        "**Step 6: Compile model:**\n",
        "\n",
        "Before we can begin training, we need to configure the training process. We decide 3 key factors during the compilation step:\n",
        "\n",
        "\n",
        "1.   The optimizer. We’ll stick with a pretty good default: the Adam gradient-based optimizer. Keras has many other optimizers[ you can look into as well.](https://keras.io/api/optimizers/)\n",
        "\n",
        "2.   The loss function. Since we’re using a Softmax output layer, we’ll use the Cross-Entropy loss. Keras distinguishes between binary_crossentropy (2 classes) and categorical_crossentropy (>2 classes), so we’ll use the latter. [See all Keras losses.](https://keras.io/api/losses/)\n",
        "\n",
        "3.  A list of metrics. Since this is a classification problem, we’ll just have Keras report on the accuracy metric.\n",
        "\n",
        "\n",
        "\n"
      ]
    },
    {
      "cell_type": "code",
      "metadata": {
        "id": "R5iNLSOqqKAT"
      },
      "source": [
        "# We just need to compile the model and we'll be ready to train it.\n",
        "# When we compile the model, we declare the loss function and the optimizer (SGD, Adam, etc.).\n",
        "model.compile(loss='categorical_crossentropy', \n",
        "              optimizer='adam',\n",
        "              metrics=['accuracy'])"
      ],
      "execution_count": null,
      "outputs": []
    },
    {
      "cell_type": "markdown",
      "metadata": {
        "id": "dD-NQ4M8MtRg"
      },
      "source": [
        "\n",
        "**Step 7: Fit model on training data:**\n",
        "\n",
        "Specifying some parameters for fit():\n",
        "\n",
        "**The training data** (images and labels)( commonly known as X and Y, respectively).\n",
        "\n",
        "**The number of epochs**(iterations over the entire dataset) to train for.\n",
        "\n",
        "**The batch size**(number of samples per gradient update) to use when training."
      ]
    },
    {
      "cell_type": "code",
      "metadata": {
        "id": "a1cLzWUaqKAY",
        "colab": {
          "base_uri": "https://localhost:8080/"
        },
        "outputId": "4d4dc2fd-825b-4e30-a648-1b9787a4f6f3"
      },
      "source": [
        "# To fit the model, all we have to do is declare the batch size and number of epochs to train for, then pass in our training data.\n",
        "model.fit(X_train, y_train, \n",
        "          validation_data=(X_test, y_test),\n",
        "          epochs=10, batch_size=100, verbose=1)"
      ],
      "execution_count": null,
      "outputs": [
        {
          "output_type": "stream",
          "text": [
            "Epoch 1/10\n",
            "600/600 [==============================] - 5s 3ms/step - loss: 0.9635 - accuracy: 0.7551 - val_loss: 0.3617 - val_accuracy: 0.9067\n",
            "Epoch 2/10\n",
            "600/600 [==============================] - 1s 2ms/step - loss: 0.3581 - accuracy: 0.9027 - val_loss: 0.3072 - val_accuracy: 0.9156\n",
            "Epoch 3/10\n",
            "600/600 [==============================] - 1s 2ms/step - loss: 0.3204 - accuracy: 0.9117 - val_loss: 0.2911 - val_accuracy: 0.9205\n",
            "Epoch 4/10\n",
            "600/600 [==============================] - 1s 2ms/step - loss: 0.2964 - accuracy: 0.9161 - val_loss: 0.2801 - val_accuracy: 0.9220\n",
            "Epoch 5/10\n",
            "600/600 [==============================] - 1s 2ms/step - loss: 0.2820 - accuracy: 0.9217 - val_loss: 0.2773 - val_accuracy: 0.9228\n",
            "Epoch 6/10\n",
            "600/600 [==============================] - 1s 2ms/step - loss: 0.2809 - accuracy: 0.9220 - val_loss: 0.2727 - val_accuracy: 0.9240\n",
            "Epoch 7/10\n",
            "600/600 [==============================] - 1s 2ms/step - loss: 0.2731 - accuracy: 0.9235 - val_loss: 0.2691 - val_accuracy: 0.9245\n",
            "Epoch 8/10\n",
            "600/600 [==============================] - 1s 2ms/step - loss: 0.2642 - accuracy: 0.9267 - val_loss: 0.2656 - val_accuracy: 0.9264\n",
            "Epoch 9/10\n",
            "600/600 [==============================] - 1s 2ms/step - loss: 0.2607 - accuracy: 0.9279 - val_loss: 0.2652 - val_accuracy: 0.9268\n",
            "Epoch 10/10\n",
            "600/600 [==============================] - 1s 2ms/step - loss: 0.2587 - accuracy: 0.9280 - val_loss: 0.2652 - val_accuracy: 0.9263\n"
          ],
          "name": "stdout"
        },
        {
          "output_type": "execute_result",
          "data": {
            "text/plain": [
              "<tensorflow.python.keras.callbacks.History at 0x7f631ee8fa50>"
            ]
          },
          "metadata": {
            "tags": []
          },
          "execution_count": 11
        }
      ]
    },
    {
      "cell_type": "markdown",
      "metadata": {
        "id": "anUgsB5ROytG"
      },
      "source": [
        "**Step 8: Evaluate model on test data:**"
      ]
    },
    {
      "cell_type": "code",
      "metadata": {
        "id": "BUtqc0NNqKAe",
        "colab": {
          "base_uri": "https://localhost:8080/"
        },
        "outputId": "4020250f-4f75-4631-9dfb-de433d438084"
      },
      "source": [
        "# Finally, we can evaluate our model on the test data:\n",
        "score = model.evaluate(X_test, y_test, verbose=0)\n",
        "\n",
        "print (f' The error {score[0]} and accuracy {score[1]} for testing dataset!')"
      ],
      "execution_count": null,
      "outputs": [
        {
          "output_type": "stream",
          "text": [
            " The error 0.2652268707752228 and accuracy 0.9262999892234802 for testing dataset!\n"
          ],
          "name": "stdout"
        }
      ]
    },
    {
      "cell_type": "markdown",
      "metadata": {
        "id": "PVWUZHeKlxH4"
      },
      "source": [
        "# Put all line of code together - Adding more layers with different activation functions:\n",
        "\n"
      ]
    },
    {
      "cell_type": "code",
      "metadata": {
        "colab": {
          "base_uri": "https://localhost:8080/"
        },
        "id": "2LYrsiqnmXgS",
        "outputId": "4e2c1dc1-ec0d-4b72-d7a2-656882026d9f"
      },
      "source": [
        "import numpy as np\n",
        "from keras.datasets import mnist \n",
        "from tensorflow.keras.models import Sequential\n",
        "from tensorflow.keras.layers import Dense\n",
        "from tensorflow.keras.utils import to_categorical\n",
        "\n",
        "(X_train, y_train), (X_test, y_test) = mnist.load_data() \n",
        "\n",
        "\n",
        "# Normalize the images.\n",
        "X_train = X_train / 255\n",
        "X_test = X_test / 255\n",
        "\n",
        "# Flatten the images.\n",
        "X_train = X_train.reshape(X_train.shape[0], 784).astype('float32')\n",
        "X_test = X_test.reshape(X_test.shape[0], 784).astype('float32')\n",
        "\n",
        "# Build the model.\n",
        "model = Sequential([\n",
        "  Dense(64, activation='relu', input_shape=(784,)),\n",
        "  Dense(64, activation='relu'),\n",
        "  Dense(10, activation='softmax'),\n",
        "])\n",
        "\n",
        "# Compile the model.\n",
        "model.compile(\n",
        "  optimizer='adam',\n",
        "  loss='categorical_crossentropy',\n",
        "  metrics=['accuracy'],\n",
        ")\n",
        "\n",
        "# Train the model.\n",
        "model.fit(\n",
        "  X_train,\n",
        "  to_categorical(y_train),\n",
        "  epochs=5,\n",
        "  batch_size=32,\n",
        ")\n",
        "\n",
        "# Finally, we can evaluate our model on the test data:\n",
        "score = model.evaluate(X_test,\n",
        "                       to_categorical(y_test),\n",
        "                       verbose=0)\n",
        "\n",
        "\n",
        "print (f' The error {score[0]} and accuracy {score[1]} for testing dataset!')"
      ],
      "execution_count": null,
      "outputs": [
        {
          "output_type": "stream",
          "text": [
            "Epoch 1/5\n",
            "1875/1875 [==============================] - 4s 2ms/step - loss: 0.4958 - accuracy: 0.8584\n",
            "Epoch 2/5\n",
            "1875/1875 [==============================] - 3s 2ms/step - loss: 0.1246 - accuracy: 0.9619\n",
            "Epoch 3/5\n",
            "1875/1875 [==============================] - 3s 2ms/step - loss: 0.0853 - accuracy: 0.9745\n",
            "Epoch 4/5\n",
            "1875/1875 [==============================] - 3s 2ms/step - loss: 0.0687 - accuracy: 0.9783\n",
            "Epoch 5/5\n",
            "1875/1875 [==============================] - 3s 2ms/step - loss: 0.0523 - accuracy: 0.9840\n",
            " The error 0.09177102148532867 and accuracy 0.9711999893188477 for testing dataset!\n"
          ],
          "name": "stdout"
        }
      ]
    }
  ]
}